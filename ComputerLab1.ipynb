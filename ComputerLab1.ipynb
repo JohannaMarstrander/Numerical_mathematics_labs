{
 "cells": [
  {
   "cell_type": "markdown",
   "metadata": {},
   "source": [
    "# Homework 1: Linear Systems Part I"
   ]
  },
  {
   "cell_type": "markdown",
   "metadata": {},
   "source": [
    "## General Instructions\n",
    " \n",
    "* To pass this assignment requires to complete the present Jupyter notebook by\n",
    "    + providing correct answers to all the theoretical exercises, and by\n",
    "    + providing complete and runnable computer code producing the correct results to all the computational problems.\n",
    "\n",
    "* For the theoretical exercises, please include intermediate steps to\n",
    "  explain how you arrive at your solution.\n",
    "* Don't overengineer your code, keep it as simple and readable as possible   and provide short code comments to help other people understanding your     code.\n",
    "* Please provide also a short summary and discussion of your results \n",
    "  including the requested output (e.g., tables, graphs etc.).\n",
    "\n",
    "* Up to 3 students can jointly submit the solutions (4 students if at\n",
    "  least one is an exchange student) **Only 1 student from each group** \n",
    "  is supposed to submit them.  \n",
    "\n",
    "##### Deadline for submission of your solutions is **5th of September**.\n",
    "\n",
    "\n",
    "###  Happy coding!"
   ]
  },
  {
   "cell_type": "markdown",
   "metadata": {},
   "source": [
    "**And before we start:**\n",
    "\n",
    "Executing the following cell loads a non-default css style for the notebook. \n",
    "Make sure that you download the corresponding css file  `tmas4215.css` from the `lab/styles` Blackbord folder. Note that the following code snippet assumes that the file resides inside the folder `../styles/` relative to the folder where you stored this notebook on you computer."
   ]
  },
  {
   "cell_type": "code",
   "execution_count": 1,
   "metadata": {},
   "outputs": [
    {
     "data": {
      "text/html": [
       "<link href='http://fonts.googleapis.com/css?family=Alegreya+Sans:100,300,400,500,700,800,900,100italic,300italic,400italic,500italic,700italic,800italic,900italic' rel='stylesheet' type='text/css'> <link href='http://fonts.googleapis.com/css?family=Arvo:400,700,400italic' rel='stylesheet' type='text/css'> <link href=\"https://fonts.googleapis.com/css?family=News+Cycle\" rel=\"stylesheet\"> <link href='http://fonts.googleapis.com/css?family=Nixie+One' rel='stylesheet' type='text/css'> <link href='http://fonts.googleapis.com/css?family=PT+Mono' rel='stylesheet' type='text/css'> <link href='http://fonts.googleapis.com/css?family=Shadows+Into+Light' rel='stylesheet' type='text/css'> <link href=\"https://fonts.googleapis.com/css?family=Source+Code+Pro\" rel=\"stylesheet\"> <style> @font-face {\n",
       "    /*font-family: \"Computer Modern\";*/\n",
       "    /*src: url('http://mirrors.ctan.org/fonts/cm-unicode/fonts/otf/cmunss.otf');*/\n",
       "    font-family: 'News Cycle', sans-serif;\n",
       "}\n",
       "\n",
       "\n",
       "/* main background */\n",
       "\n",
       "\n",
       "/*#notebook_panel { \n",
       "        background: #C9D4E2;\n",
       "    }*/\n",
       "\n",
       "div.cell {\n",
       "    /*max-width:600px;*/\n",
       "    /*margin-left:16% !important;*/\n",
       "    /*margin-right:auto;*/\n",
       "}\n",
       "\n",
       "div.text_cell {\n",
       "    max-width: 120ex;\n",
       "    /* instead of 100%, */\n",
       "}\n",
       "\n",
       "div.text_cell_render {\n",
       "    font-family: 'Alegreya Sans', Computer Modern, \"Helvetica Neue\", Arial, Helvetica, Geneva,   sans-serif;\n",
       "    line-height: 135%;\n",
       "    /*font-size:    45pt;*/\n",
       "    font-size: 130%;\n",
       "    /*width:600px;*/\n",
       "    /*margin-left:auto;*/\n",
       "    /*margin-right:auto;*/\n",
       "}\n",
       "\n",
       ".CodeMirror {\n",
       "    /*font-family: 'Source Code Pro', monospace;*/\n",
       "    /*font-style: italic;*/\n",
       "    /*font-weight: bold;*/\n",
       "    /*font-size: 120%;*/\n",
       "}\n",
       "\n",
       "\n",
       "/*.prompt{\n",
       "        display: None;\n",
       "    }*/\n",
       "\n",
       ".text_cell_render h1 {\n",
       "    font-family: 'Nixie One', serifV;\n",
       "    font-style: regular;\n",
       "    font-weight: 400;\n",
       "    font-size: 45pt;\n",
       "    line-height: 100%;\n",
       "        color: #497BB9;    \n",
       "    /*color: #5889C5;*/\n",
       "    /*color: rgb(0, 51, 102);*/\n",
       "    /*font-weight: 200;*/\n",
       "    /*font-size: 50pt;*/\n",
       "    margin-bottom: 0.5em;\n",
       "    margin-top: 0.5em;\n",
       "    display: block;\n",
       "}\n",
       "\n",
       ".text_cell_render h2 {\n",
       "    font-family: 'Nixie One', serif;\n",
       "    font-weight: 400;\n",
       "    font-size: 30pt;\n",
       "    line-height: 100%;\n",
       "    /*color: rgb(0,51,102);*/\n",
       "    color: #497BB9;    \n",
       "    margin-bottom: 0.1em;\n",
       "    margin-top: 0.3em;\n",
       "    display: block;\n",
       "}\t\n",
       "\n",
       ".text_cell_render h3 {\n",
       "    font-family: 'Nixie One', serif;\n",
       "    margin-top:16px;\n",
       "    font-size: 22pt;\n",
       "    font-weight: 600;\n",
       "    margin-bottom: 3px;\n",
       "    font-style: regular;\n",
       "    color: rgb(102,102,0);\n",
       "}\n",
       "\n",
       ".text_cell_render h4 {    /*Use this for captions*/\n",
       "    font-family: 'Nixie One', serif;\n",
       "    font-size: 14pt;\n",
       "/*    text-align: center;*/\n",
       "    margin-top: 0em;\n",
       "    margin-bottom: 2em;\n",
       "    font-style: regular;\n",
       "}\n",
       "\n",
       ".text_cell_render h5 {  /*Use this for small titles*/\n",
       "    font-family: 'Nixie One', sans-serif;\n",
       "    font-weight: 400;\n",
       "    font-size: 16pt;\n",
       "    color: rgb(163,0,0);\n",
       "    /*color: #5889C5;*/\n",
       "    /*margin-bottom: .5em;\n",
       "    margin-top: 0.5em;*/\n",
       "    font-style: italic;\n",
       "    margin-bottom: .1em;\n",
       "    margin-top: 0.8em;\n",
       "    display: block;\n",
       "}\n",
       "\n",
       ".warning {\n",
       "    color: rgb( 240, 20, 20)\n",
       "}\n",
       "\n",
       "</style> \n",
       "<script>\n",
       " MathJax.Hub.Config( {\n",
       "    TeX: {\n",
       "        Macros: {\n",
       "            NN: \"{\\\\bf N}\",\n",
       "            RR: \"{\\\\mathbb{R}}\",\n",
       "            mcO: \"{\\\\mathcal{O}}\"\n",
       "        },\n",
       "        equationNumbers: { autoNumber: \"AMS\" },\n",
       "        extensions: [\"AMSmath.js\", \"begingroup.js\"] \n",
       "    },\n",
       "    tex2jax: {\n",
       "        inlineMath: [ ['$', '$'], [\"\\\\(\", \"\\\\)\"]], displayMath: [ ['$$', '$$'], [\"\\\\[\", \"\\\\]\"]]\n",
       "    },\n",
       "    displayAlign: 'center', // Change this to 'center' to center equations.\n",
       "    \"HTML-CSS\": {\n",
       "        styles: {\n",
       "            '.MathJax_Display': {\n",
       "                \"margin\": 4\n",
       "            }\n",
       "        }\n",
       "    }\n",
       "}\n",
       ");\n",
       "</script>\n"
      ],
      "text/plain": [
       "<IPython.core.display.HTML object>"
      ]
     },
     "execution_count": 1,
     "metadata": {},
     "output_type": "execute_result"
    }
   ],
   "source": [
    "from IPython.core.display import HTML\n",
    "def css_styling():\n",
    "    styles = open(\"../styles/tma4215.css\", \"r\").read()\n",
    "    return HTML(styles)\n",
    "\n",
    "# Comment out next line and execute this cell to restore \n",
    "css_styling()"
   ]
  },
  {
   "cell_type": "markdown",
   "metadata": {},
   "source": [
    "### Useful code snippets\n",
    "\n",
    "We provide a few of code snippets to get you\n",
    "started in Python. Three dots $\\ldots$ indicate places where you have\n",
    "to fill in code. We start with importing the necessary scientific libraries\n",
    "and define a name alias for them."
   ]
  },
  {
   "cell_type": "code",
   "execution_count": 8,
   "metadata": {
    "jupyter": {
     "outputs_hidden": true
    }
   },
   "outputs": [],
   "source": [
    "# Arrary and stuff \n",
    "import numpy as np\n",
    "# Linear algebra solvers from scipy\n",
    "import scipy.linalg as la\n",
    "# Basic plotting routines from the matplotlib library \n",
    "import matplotlib.pyplot as plt"
   ]
  },
  {
   "cell_type": "markdown",
   "metadata": {},
   "source": [
    "## Problem 1\n",
    "Provide a complete proof of Theorem 2 from Lecture 2,\n",
    "following the outline provided there. "
   ]
  },
  {
   "cell_type": "markdown",
   "metadata": {},
   "source": [
    "## Problem 2"
   ]
  },
  {
   "cell_type": "markdown",
   "metadata": {},
   "source": [
    "Given matrix $A \\in \\mathbb{R}^{n,n}$ and $\\boldsymbol{b} \\in \\mathbb{R}^n$,\n",
    "the goal of this problem set is to compute the solution $\\boldsymbol{x}$\n",
    "to the linear system $A \\boldsymbol{x} = \\boldsymbol{b}$ numerically\n",
    "by implementing the algorithms $A = LU$ factorization (whenever possible), and the backward and forward substitution steps in ```Python```.\n",
    "\n",
    "As a preliminary step, please make sure that you have import ```numpy```  as ```np``` by executing the cell right under \"Useful code snippets\"."
   ]
  },
  {
   "cell_type": "markdown",
   "metadata": {},
   "source": [
    "**a)** Implement a ```Python``` function ```forward_sub```:"
   ]
  },
  {
   "cell_type": "code",
   "execution_count": 1,
   "metadata": {},
   "outputs": [],
   "source": [
    "def forward_sub(L, b):\n",
    "    \"\"\"Given a lower triangular matrix L and right-side vector b,\n",
    "    compute the solution vector y solving Ly = b.\"\"\"\n",
    "    n=len(b)\n",
    "    y=np.zeros(n)\n",
    "    for i in range(n):\n",
    "        y[i]=b[i]-np.dot(L[i,:i],y[:i])\n",
    "    return y"
   ]
  },
  {
   "cell_type": "markdown",
   "metadata": {},
   "source": [
    "**b)** Next, implement a ```Python``` function ```backward_sub```:"
   ]
  },
  {
   "cell_type": "code",
   "execution_count": 2,
   "metadata": {},
   "outputs": [],
   "source": [
    "def backward_sub(U, y):\n",
    "    \"\"\"Given a lower triangular matrix U and right-side vector y,\n",
    "    compute the solution vector x solving Ux = y.\"\"\"\n",
    "    n=len(y)\n",
    "    x=np.zeros(n)\n",
    "    for i in range(n-1,-1,-1):\n",
    "        x[i]=(1/U[i,i])*(y[i]-np.dot(U[i,i:],x[i:]))\n",
    "    return x"
   ]
  },
  {
   "cell_type": "markdown",
   "metadata": {},
   "source": [
    "**c)** Now, implement a Python function which computes for a given matrix $A \\boldsymbol{R}^{n,n}$ the $LU$ factorization of $A = LU$ ((if possible).\n",
    "You can either base your implemenentation on the Banachiewicz or Crout method (explain in Lecture 3) or any method\n",
    "you might dig up from the literature.\n",
    "If you want, you can take some inspiration from the reference **YEB**, Chapter 3.3, see Program 4, 5, 6.\n",
    "\n",
    "If the factorization fails without permutating $A$, you should at least be so kind\n",
    "and raise an ```Exception```, see [Python 3 tutorial, 8. Errors and Exceptions](\n",
    "https://docs.python.org/3/tutorial/errors.html#errors-and-exceptions).\n",
    "More specifically, you can simply raise an [NotImplementedError](https://docs.python.org/3/library/exceptions.html#NotImplementedError) exception.\n",
    "\n",
    "Of course, you can also implement the full $PA = LU$ decomposition if you don't want to throw Exceptions around :)."
   ]
  },
  {
   "cell_type": "code",
   "execution_count": 3,
   "metadata": {},
   "outputs": [],
   "source": [
    "def lu_factor(A):\n",
    "    n=np.shape(A)[0]\n",
    "    p=np.identity(n)\n",
    "    L=np.identity(n)\n",
    "    U=np.zeros((n,n))\n",
    "    for i in range(n):\n",
    "        position = np.argmax(abs(A[i:,0]))+i\n",
    "        old_A=np.copy(A[i])\n",
    "        old_p=np.copy(p[i])\n",
    "        A[i] = A[position]\n",
    "        p[i] = p[position]\n",
    "        A[position]=old_A\n",
    "        p[position] = old_p\n",
    "        for j in range(i):\n",
    "            L[i,j]=(1/U[j,j])*(A[i,j]-np.dot(L[i,:j],U[:j,j]))\n",
    "        for k in range(i,n):\n",
    "            U[i][k] = (A[i,k]-np.dot(L[i,:k],U[:k,k]))\n",
    "    return (L, U,p)"
   ]
  },
  {
   "cell_type": "markdown",
   "metadata": {},
   "source": [
    "**d)** Next, combine the Python functions you just implemented in a)-b) to provide\n",
    "solver for the linear system $A \\boldsymbol{x} = \\boldsymbol{b}$ based on\n",
    "a given $A = LU$ factorization. "
   ]
  },
  {
   "cell_type": "code",
   "execution_count": 4,
   "metadata": {},
   "outputs": [],
   "source": [
    "\n",
    "def lu_solve(L, U, P, b):\n",
    "    # Step 1: Solve Uy = b using forward substitution\n",
    "    b=P@b\n",
    "    y=forward_sub(L,b)\n",
    "    # Step 2: Solve Lx = y using backward substitution\n",
    "    x=backward_sub(U,y)\n",
    "    return x\n"
   ]
  },
  {
   "cell_type": "markdown",
   "metadata": {},
   "source": [
    "**e)** Finally, write a ```linear_solve``` function  by simply combining your ```lu_factor``` and ```lu_solve```. "
   ]
  },
  {
   "cell_type": "code",
   "execution_count": 5,
   "metadata": {},
   "outputs": [],
   "source": [
    "def linear_solve(A, b):\n",
    "    L,U,p=lu_factor(A)\n",
    "    x = lu_solve(L,U,p,b)\n",
    "    return x"
   ]
  },
  {
   "cell_type": "markdown",
   "metadata": {},
   "source": [
    "**f)** Use you brand new `linear_solve` function to compute the solution to a non-trivial linear system. Here non-trivial means that $n > 4$ :) and a non-zero right-hand side $\\boldsymbol{b}$.\n",
    "\n",
    "*Hint*: To check whether your code computes the \"exact\" result, you can use the \n",
    "method of **manufactured solution**. In the case of linear systems $A \\boldsymbol{x} = \\boldsymbol{b}$ this means that for **given/chosen** matrix $A$ and solution vector $\\boldsymbol{x}$, you simply compute the resulting right-hand side vector \n",
    "$\\boldsymbol{b} = A \\boldsymbol{x}$ to construct an example where you know the solution.\n",
    "When you now solve $A\\boldsymbol{x} = \\boldsymbol{b}$ starting from $A$, $\\boldsymbol{b}$, your implementation should return the correct $\\boldsymbol{x}$."
   ]
  },
  {
   "cell_type": "markdown",
   "metadata": {},
   "source": [
    "## Problem 3\n",
    "\n",
    "The objective of this problem set is two-fold. First, we will have an actual look \n",
    "at the complexity of the linear solver you implemented in the previous problem.\n",
    "Second, we want to illustrate that the finite precision of real numbers\n",
    "can matter very much in actual computations.\n",
    "\n",
    "We start by introducing the **Hilbert Matrix** $H_n$ of order $n$ by\n",
    "$$ \n",
    "(H_n)_{ij} = \\dfrac{1}{i+j-1} \\quad \\text{for } 1 \\leqslant i,j \\leqslant n.\n",
    "$$\n",
    "\n",
    "\n",
    "The Hilbert matrix is readily available in the ```scipy.linalg``` module, so you simply\n",
    "type, e.g\n",
    "\n",
    "```python\n",
    "n = 3\n",
    "A = la.hilbert(n)\n",
    "```\n",
    "Recall that we imported the ```linalg``` module and renamed it to ```la``` via the\n",
    "```python \n",
    "import scipy.linalg as la\n",
    "``` \n",
    "line at the beginning of this notebook."
   ]
  },
  {
   "cell_type": "markdown",
   "metadata": {},
   "source": [
    "**a)** \n",
    "Define the trivial righ-hand side $\\boldsymbol{b} = \\boldsymbol{0}$\n",
    "and measure the executation time for the various step in your linear_solver.\n",
    "To do so you can use ```%timeit``` and ```%%timeit``` magic functions in IPython,\n",
    "see [corresponding documentation](https://ipython.readthedocs.io/en/stable/interactive/magics.html#magic-timeit).\n",
    "\n",
    "In a nutshell, ```%%timeit``` measures the executation time of an entire cell, while ```%timeit```\n",
    "only measures only the executation time of a single line, e.g. as in\n",
    "\n",
    "```python\n",
    "%timeit my_function()\n",
    "```\n",
    "\n",
    "Note that the latter might not play well with functions returning arguments.\n",
    "To this end, you can simply (re)write a linear solver in  3 lines (1 line per cell)\n",
    "starting from calling your  ```lu_factor``` function and\n",
    "copy-pasting the lines from Step 1 to Step 2 in the ```linear_solve()``` function.\n",
    "Then use the ```%%timeit``` to measure the executation time of each cell.\n",
    "\n",
    "To get accurate timeing results, ```timeit``` automatically runs the same code multiple\n",
    "times in  a loop, and repeats that measurement a number of times.\n",
    "The actual number of loops and repeats is selected automatically and will be printed out at the end. They can also be manually adjusted by using\n",
    "\n",
    "```\n",
    "%%timeit -n<number_of_loops> -r<number_of_repeats>\n",
    "```\n",
    "\n",
    "\n",
    "Now for $n = 500, 1000, 2000, 4000$, measure the executation time for each step in the linear solve\n",
    "(factorizing, forward and backward substitution) and plot\n",
    "the execution time $t$ against the number of unknowns $n$ in a $\\log$-$\\log$ plot,\n",
    "that is, $\\log(t)$ against $\\log(n)$.\n",
    "(Matplotlib has specific functions for log-log plotting)"
   ]
  },
  {
   "cell_type": "markdown",
   "metadata": {},
   "source": [
    "**b)** Next, define a non-trivial vector $\\boldsymbol{b}$ by\n",
    "$$\n",
    "b_i = \\sum_{j=1}^n (j/(i+j-1)) \n",
    "$$\n",
    "so that the **exact solution** to the lineary system $H_n \\boldsymbol{x} = \\boldsymbol{b}$ is\n",
    "the vector $\\boldsymbol{x}_{\\mathrm{ex}}$  with elements $x_{\\mathrm{ex},i} = i$.\n",
    "Now solve the system using your ```linear_solve``` function for $n = 2, 4, 8, 16$, print the computed solution vector $\\boldsymbol{x}_{\\mathrm{comp}}$ and compare it with $\\boldsymbol{x}_{\\mathrm{ex}}$. In particular compute \n",
    "\n",
    "$$\\|\\boldsymbol{x}_{\\mathrm{ex}}-\\boldsymbol{x}_{\\mathrm{comp}}\\|_2.$$\n",
    "\n",
    "What do you observe? Can you explain your observations?\n",
    "\n",
    "*Hint*: It can be shown that the condition number $\\kappa_2(H_n)$ scales like\n",
    "$$\n",
    "\\kappa_2(H_n) \\sim \\dfrac{\\left(\\sqrt{2}+1\\right)^{4n+4}}{2^{15/4}\\sqrt{\\pi n}}\n",
    "\\text{as } n \\to  \\infty.\n",
    "$$\n",
    "\n",
    "Tabulate the approximate values of $\\kappa_2(H_n)$ for $n = 2, 4, 8, 16$.\n",
    "\n",
    "This exercise was heavily inspired by Section 2.8 in **BLUB**."
   ]
  },
  {
   "cell_type": "code",
   "execution_count": 9,
   "metadata": {},
   "outputs": [],
   "source": [
    "def approx_condition(n):\n",
    "    return (np.power((np.sqrt(2)+1),4*n+4)/(np.power(2,15/4)*np.sqrt(np.pi*n)))\n",
    "          \n",
    "def createb(n):\n",
    "    b=np.zeros(n)\n",
    "    for i in range(1,n+1):\n",
    "        bi=0\n",
    "        for j in range(1,n+1):\n",
    "\n",
    "            bi+=(j/(i+j-1))\n",
    "\n",
    "        b[i-1]=bi\n",
    "    return b\n",
    "\n",
    "def finnpånavn(n):\n",
    "    x_ex=np.arange(1,n+1)\n",
    "    #print(x_ex)\n",
    "    A=la.hilbert(n)\n",
    "    b=createb(n)\n",
    "    x_comp=linear_solve(A,b)\n",
    "    #print(x_comp)\n",
    "    normen=np.linalg.norm(x_ex-x_comp,2)\n",
    "    #print(normen)\n",
    "    return normen"
   ]
  },
  {
   "cell_type": "code",
   "execution_count": 10,
   "metadata": {},
   "outputs": [
    {
     "name": "stdout",
     "output_type": "stream",
     "text": [
      "[1.1957467920563633e-15, 1.2498208170117586e-12, 1.8314721121129944e-06, 2293.932699558615]\n",
      "[1162.4005482739578, 948519.5596462524, 893186722615.2314, 1.1200803841874022e+24]\n",
      "[1.00000000e+00 1.04522197e+03 1.53165547e+09 1.91841008e+18]\n",
      "[1.00000000e+00 8.16000613e+02 7.68398401e+08 9.63592443e+20]\n"
     ]
    }
   ],
   "source": [
    "n_list=[2,4,8,16]\n",
    "x_norm=[]\n",
    "condition=[]\n",
    "for element in n_list:\n",
    "    x_norm.append(finnpånavn(element))\n",
    "    condition.append(approx_condition(element))\n",
    "print(x_norm)\n",
    "print(condition)\n",
    "\n",
    "print(x_norm/x_norm[0])\n",
    "print(condition/condition[0])"
   ]
  },
  {
   "cell_type": "code",
   "execution_count": null,
   "metadata": {},
   "outputs": [],
   "source": []
  }
 ],
 "metadata": {
  "anaconda-cloud": {},
  "kernelspec": {
   "display_name": "Python 3",
   "language": "python",
   "name": "python3"
  },
  "language_info": {
   "codemirror_mode": {
    "name": "ipython",
    "version": 3
   },
   "file_extension": ".py",
   "mimetype": "text/x-python",
   "name": "python",
   "nbconvert_exporter": "python",
   "pygments_lexer": "ipython3",
   "version": "3.7.1"
  }
 },
 "nbformat": 4,
 "nbformat_minor": 4
}
